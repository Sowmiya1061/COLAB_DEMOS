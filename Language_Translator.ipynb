{
  "nbformat": 4,
  "nbformat_minor": 0,
  "metadata": {
    "kernelspec": {
      "name": "python3",
      "display_name": "Python 3"
    },
    "language_info": {
      "codemirror_mode": {
        "name": "ipython",
        "version": 3
      },
      "file_extension": ".py",
      "mimetype": "text/x-python",
      "name": "python",
      "nbconvert_exporter": "python",
      "pygments_lexer": "ipython3",
      "version": "3.7.4"
    },
    "colab": {
      "name": "Language Translator.ipynb",
      "provenance": [],
      "collapsed_sections": [],
      "include_colab_link": true
    }
  },
  "cells": [
    {
      "cell_type": "markdown",
      "metadata": {
        "id": "view-in-github",
        "colab_type": "text"
      },
      "source": [
        "<a href=\"https://colab.research.google.com/github/Tor-Storli/COLAB_DEMOS/blob/master/Language_Translator.ipynb\" target=\"_parent\"><img src=\"https://colab.research.google.com/assets/colab-badge.svg\" alt=\"Open In Colab\"/></a>"
      ]
    },
    {
      "cell_type": "markdown",
      "metadata": {
        "id": "mAh3dkPoWfOp",
        "colab_type": "text"
      },
      "source": [
        "# **Language Translator - Python**\n",
        "### **<font color='red'>Google Translator</font>.**"
      ]
    },
    {
      "cell_type": "markdown",
      "metadata": {
        "id": "CHLIEM4XZ2ws",
        "colab_type": "text"
      },
      "source": [
        "#### ***`Googletrans`*** is a free and unlimited python library that implemented Google Translate API. This uses the Google Translate Ajax API to make calls to such methods as detect and translate."
      ]
    },
    {
      "cell_type": "markdown",
      "metadata": {
        "id": "8MzKzeO8WfOs",
        "colab_type": "text"
      },
      "source": [
        "##### For more information - visit: https://pypi.org/project/googletrans/"
      ]
    },
    {
      "cell_type": "markdown",
      "metadata": {
        "id": "yvzasloOZ_pM",
        "colab_type": "text"
      },
      "source": [
        "### **<font color='blue'>Features</font>.**\n",
        "- Fast and reliable - it uses the same servers that\n",
        "- translate.google.com uses\n",
        "- Auto language detection\n",
        "- Bulk translations\n",
        "- Customizable service URL\n",
        "- Connection pooling (the advantage of using requests.Session)\n",
        "- HTTP/2 support"
      ]
    },
    {
      "cell_type": "markdown",
      "metadata": {
        "id": "4zMSDQEHW5Hi",
        "colab_type": "text"
      },
      "source": [
        "### Install modules"
      ]
    },
    {
      "cell_type": "markdown",
      "metadata": {
        "id": "4iYRXAYzkQTD",
        "colab_type": "text"
      },
      "source": [
        "# **<font color='blue'>Google traslator - Walk through</font>.**"
      ]
    },
    {
      "cell_type": "code",
      "metadata": {
        "id": "8bAfwzH-Wxfl",
        "colab_type": "code",
        "colab": {}
      },
      "source": [
        "!pip install googletrans\n",
        "#!pip install matplotlib\n",
        "!pip install beautifulsoup4\n",
        "!pip install requests"
      ],
      "execution_count": 0,
      "outputs": []
    },
    {
      "cell_type": "markdown",
      "metadata": {
        "id": "vO0u3FvQWfOt",
        "colab_type": "text"
      },
      "source": [
        "\n",
        "### Import modules"
      ]
    },
    {
      "cell_type": "code",
      "metadata": {
        "id": "mKkOUBEtWfOt",
        "colab_type": "code",
        "colab": {}
      },
      "source": [
        "from googletrans import Translator\n",
        "import requests\n",
        "from bs4 import BeautifulSoup\n",
        "import numpy as np\n",
        "import pandas as pd\n",
        "import time\n",
        "from tabulate import tabulate"
      ],
      "execution_count": 0,
      "outputs": []
    },
    {
      "cell_type": "markdown",
      "metadata": {
        "id": "PAtdhKwdEmiW",
        "colab_type": "text"
      },
      "source": [
        "### Create an instance of the Translator object"
      ]
    },
    {
      "cell_type": "code",
      "metadata": {
        "id": "8t1FGyOgWfOw",
        "colab_type": "code",
        "colab": {}
      },
      "source": [
        "translator = Translator()"
      ],
      "execution_count": 0,
      "outputs": []
    },
    {
      "cell_type": "markdown",
      "metadata": {
        "id": "jG8QwCOnfkRt",
        "colab_type": "text"
      },
      "source": [
        "### You can find the language codes that Google translate supports here...\n",
        "#### https://cloud.google.com/translate/docs/languages"
      ]
    },
    {
      "cell_type": "markdown",
      "metadata": {
        "id": "TIUiOy3MWfPQ",
        "colab_type": "text"
      },
      "source": [
        "####  **You can find ISO 639-1 language  codes here...**\n",
        "##### https://en.wikipedia.org/wiki/List_of_ISO_639-1_codes"
      ]
    },
    {
      "cell_type": "markdown",
      "metadata": {
        "id": "aWh4skOEWfO9",
        "colab_type": "text"
      },
      "source": [
        "#### English to German"
      ]
    },
    {
      "cell_type": "code",
      "metadata": {
        "id": "1P64TFefWfO-",
        "colab_type": "code",
        "colab": {}
      },
      "source": [
        "output = translator.translate(src='en', dest='de', text='Good Morning! How are you?')\n",
        "print(output)"
      ],
      "execution_count": 0,
      "outputs": []
    },
    {
      "cell_type": "markdown",
      "metadata": {
        "id": "Xmz9mue5WfPA",
        "colab_type": "text"
      },
      "source": [
        "#### English to Spanish"
      ]
    },
    {
      "cell_type": "code",
      "metadata": {
        "id": "Bs4-kR2gWfPA",
        "colab_type": "code",
        "colab": {}
      },
      "source": [
        "output = translator.translate(src='en', dest='es', text='Good Morning! How are you?')\n",
        "print(output)"
      ],
      "execution_count": 0,
      "outputs": []
    },
    {
      "cell_type": "markdown",
      "metadata": {
        "id": "5eX8Qz0ZWfPC",
        "colab_type": "text"
      },
      "source": [
        "#### English to French"
      ]
    },
    {
      "cell_type": "code",
      "metadata": {
        "id": "-Inuhx4uWfPD",
        "colab_type": "code",
        "colab": {}
      },
      "source": [
        "translator= Translator(service_urls=['translate.google.com'])\n",
        "translation = translator.translate(\"Good Morning! How are you?\",dest='fr')\n",
        "print(translation)"
      ],
      "execution_count": 0,
      "outputs": []
    },
    {
      "cell_type": "markdown",
      "metadata": {
        "id": "4rsjZPSPWfPF",
        "colab_type": "text"
      },
      "source": [
        "#### English to Norwegian"
      ]
    },
    {
      "cell_type": "code",
      "metadata": {
        "scrolled": true,
        "id": "2sUuz9j1WfPF",
        "colab_type": "code",
        "colab": {}
      },
      "source": [
        "translation = translator.translate(\"Good Morning! How are you? I am going for a walk. Do you want to join me?\",dest=\"no\")\n",
        "print(translation)"
      ],
      "execution_count": 0,
      "outputs": []
    },
    {
      "cell_type": "markdown",
      "metadata": {
        "id": "1YZ85yW1WfPI",
        "colab_type": "text"
      },
      "source": [
        "#### English to Hindi"
      ]
    },
    {
      "cell_type": "code",
      "metadata": {
        "id": "tvkp3wbyWfPJ",
        "colab_type": "code",
        "colab": {}
      },
      "source": [
        "translation = translator.translate(\"Good Morning India! How are you? What a beautiful day!\", dest='hi')\n",
        "print(translation)"
      ],
      "execution_count": 0,
      "outputs": []
    },
    {
      "cell_type": "markdown",
      "metadata": {
        "id": "cwIoQs5nWfPZ",
        "colab_type": "text"
      },
      "source": [
        "#### Then Hindi to Norwegian"
      ]
    },
    {
      "cell_type": "code",
      "metadata": {
        "scrolled": true,
        "id": "His-BDSpWfPb",
        "colab_type": "code",
        "colab": {}
      },
      "source": [
        "translation = translator.translate(\"गुड मॉर्निंग भारत! क्या हाल है? वाह क्या सुंदर दिन है!\",src='hi', dest='no')\n",
        "print(translation)"
      ],
      "execution_count": 0,
      "outputs": []
    },
    {
      "cell_type": "markdown",
      "metadata": {
        "id": "g6lOpCyyiHwd",
        "colab_type": "text"
      },
      "source": [
        "#### Norwegian to Hindi"
      ]
    },
    {
      "cell_type": "code",
      "metadata": {
        "id": "TzLVkm0riI6s",
        "colab_type": "code",
        "colab": {}
      },
      "source": [
        "translation = translator.translate(\"God Morgen India! Hvordan har du det? For en vakker dag!\",src='no', dest='hi')\n",
        "print(translation)"
      ],
      "execution_count": 0,
      "outputs": []
    },
    {
      "cell_type": "markdown",
      "metadata": {
        "id": "FbFtebYaWfPL",
        "colab_type": "text"
      },
      "source": [
        "### **English to Chinese**"
      ]
    },
    {
      "cell_type": "markdown",
      "metadata": {
        "id": "vGjoAt0qWfPL",
        "colab_type": "text"
      },
      "source": [
        "#### Chinese (Simplified)"
      ]
    },
    {
      "cell_type": "code",
      "metadata": {
        "id": "g6b9Bc5De5Kj",
        "colab_type": "code",
        "colab": {}
      },
      "source": [
        "translation = translator.translate(\"Good Morning! How are you?\", dest='zh-CN')\n",
        "print(translation)"
      ],
      "execution_count": 0,
      "outputs": []
    },
    {
      "cell_type": "markdown",
      "metadata": {
        "id": "M0AjC9wagNNm",
        "colab_type": "text"
      },
      "source": [
        "#### Chinese (Traditional)"
      ]
    },
    {
      "cell_type": "code",
      "metadata": {
        "id": "JGqsXJpxgSdv",
        "colab_type": "code",
        "colab": {}
      },
      "source": [
        "translation = translator.translate(\"Good Morning! How are you?\", dest='zh-TW')\n",
        "print(translation)"
      ],
      "execution_count": 0,
      "outputs": []
    },
    {
      "cell_type": "markdown",
      "metadata": {
        "id": "8mRALEBBWfPS",
        "colab_type": "text"
      },
      "source": [
        "#### English to Danish"
      ]
    },
    {
      "cell_type": "code",
      "metadata": {
        "id": "W285akosWfPS",
        "colab_type": "code",
        "colab": {}
      },
      "source": [
        "translation = translator.translate(\"Good morning! I am on my way to work. Is the coffee ready?\", dest='da')\n",
        "print(translation)"
      ],
      "execution_count": 0,
      "outputs": []
    },
    {
      "cell_type": "markdown",
      "metadata": {
        "id": "hgtOhQ9kWfPd",
        "colab_type": "text"
      },
      "source": [
        "#### Then Norwegian to English"
      ]
    },
    {
      "cell_type": "code",
      "metadata": {
        "id": "gGxmllEPWfPd",
        "colab_type": "code",
        "colab": {}
      },
      "source": [
        "translation = translator.translate(\"God morgen. Jeg skal lage litt kaffe, så kan vi spise frokost.\", dest='en')\n",
        "print(translation)"
      ],
      "execution_count": 0,
      "outputs": []
    },
    {
      "cell_type": "markdown",
      "metadata": {
        "id": "xtp12AWm5g2Y",
        "colab_type": "text"
      },
      "source": [
        "## Bulk translation\n",
        "### You can also add a list of text from different languages that will translate to default language (in this case English).\n",
        "\n"
      ]
    },
    {
      "cell_type": "code",
      "metadata": {
        "id": "caV4xiK605x1",
        "colab_type": "code",
        "colab": {}
      },
      "source": [
        "translations = translator.translate(['God morgen. Jeg skal lage litt kaffe, så kan vi spise frokost.', 'गुड मॉर्निंग भारत! क्या हाल है? वाह क्या सुंदर दिन है!', 'Buenos días! ¿Cómo estás?'])\n",
        "for translation in translations:\n",
        "  print(translation.origin, ' -> ', translation.text)"
      ],
      "execution_count": 0,
      "outputs": []
    },
    {
      "cell_type": "markdown",
      "metadata": {
        "id": "vC8Poh6E52fa",
        "colab_type": "text"
      },
      "source": [
        "### OR... You can also add a list of text from different languages that will translate to a different destination language, i.e. Greek."
      ]
    },
    {
      "cell_type": "code",
      "metadata": {
        "id": "0z_ZcEsZ6FJ7",
        "colab_type": "code",
        "colab": {}
      },
      "source": [
        "translations = translator.translate(['God morgen. Jeg skal lage litt kaffe, så kan vi spise frokost.', \\\n",
        "                                     'गुड मॉर्निंग भारत! क्या हाल है? वाह क्या सुंदर दिन है!', 'Buenos días! ¿Cómo estás?'], dest='el')\n",
        "for translation in translations:\n",
        "   print(translation.origin, ' -> ', translation.text)"
      ],
      "execution_count": 0,
      "outputs": []
    },
    {
      "cell_type": "markdown",
      "metadata": {
        "id": "GmKS29ie6sZi",
        "colab_type": "text"
      },
      "source": [
        "## Language Detection\n",
        "The detect method, as its name implies, identifies the language used in a given sentence"
      ]
    },
    {
      "cell_type": "code",
      "metadata": {
        "id": "oM1aDEB-05vG",
        "colab_type": "code",
        "colab": {}
      },
      "source": [
        "languages = [('no','Norwegian'),('de','German'),('bg','Bulgarian'),('fi','Finnish'), \\\n",
        "             ('el','Greek'),('hi','Hindi'),('es','Spanish'),('fr','French'),('zh-TW','Chinese (Traditional)')] \n",
        "\n",
        "lang1 = translator.detect('God morgen. Jeg skal lage litt kaffe, så kan vi spise frokost.').lang\n",
        "lang2 = translator.detect('गुड मॉर्निंग भारत! क्या हाल है? वाह क्या सुंदर दिन है!').lang\n",
        "lang3 = translator.detect('Buenos días! ¿Cómo estás?').lang\n",
        "\n",
        "for language in languages:\n",
        "    if language[0] == lang1:\n",
        "      print(translator.detect('God morgen. Jeg skal lage litt kaffe, så kan vi spise frokost.'), '-> ' + language[1].upper())\n",
        "    if language[0] == lang2:\n",
        "      print(translator.detect('गुड मॉर्निंग भारत! क्या हाल है? वाह क्या सुंदर दिन है!'), '-> ' + language[1].upper())\n",
        "    if language[0] == lang3:\n",
        "      print(translator.detect('Buenos días! ¿Cómo estás?'),  '-> ' + language[1].upper())"
      ],
      "execution_count": 0,
      "outputs": []
    },
    {
      "cell_type": "markdown",
      "metadata": {
        "id": "Z-VJunR27Cw3",
        "colab_type": "text"
      },
      "source": [
        "## **Scrape the web for news and translate news articles into different languages**"
      ]
    },
    {
      "cell_type": "markdown",
      "metadata": {
        "id": "gaVByKrfzVD0",
        "colab_type": "text"
      },
      "source": [
        "## **A big Thanks to <font color='green'>Miguel Fernández Zafra.</font>**\n",
        "### for sharing the Web scraping code used below.\n",
        "### Check it out at this location...\n",
        "https://towardsdatascience.com/web-scraping-news-articles-in-python-9dd605799558\n"
      ]
    },
    {
      "cell_type": "code",
      "metadata": {
        "id": "v8Ono2uqnvlm",
        "colab_type": "code",
        "colab": {}
      },
      "source": [
        "# Newspaper url\n",
        "url = \"https://www.theguardian.com/uk\""
      ],
      "execution_count": 0,
      "outputs": []
    },
    {
      "cell_type": "markdown",
      "metadata": {
        "id": "J7z_rgv8qcmg",
        "colab_type": "text"
      },
      "source": [
        "### Use the 'View page source' in the web page by right-clicking on the page  and search for `<h3 class=\"fc-item__title\">` to find the Titles of the articles\n",
        "### and `<div class=\"content__article-body from-content-api js-article__body\"` to find the content for each article"
      ]
    },
    {
      "cell_type": "code",
      "metadata": {
        "id": "_h4A-ZcInviH",
        "colab_type": "code",
        "colab": {}
      },
      "source": [
        "# Request\n",
        "r1 = requests.get(url)\n",
        "r1.status_code\n",
        "\n",
        "# We'll save in coverpage the cover page content\n",
        "coverpage = r1.content\n",
        "\n",
        "# Soup creation\n",
        "soup1 = BeautifulSoup(coverpage, 'html5lib')\n",
        "\n",
        "# News identification\n",
        "coverpage_news = soup1.find_all('h3', class_='fc-item__title')\n",
        "len(coverpage_news)"
      ],
      "execution_count": 0,
      "outputs": []
    },
    {
      "cell_type": "code",
      "metadata": {
        "id": "-Lj_isnMnvc2",
        "colab_type": "code",
        "colab": {}
      },
      "source": [
        "number_of_articles = 10"
      ],
      "execution_count": 0,
      "outputs": []
    },
    {
      "cell_type": "code",
      "metadata": {
        "id": "97Ly7hr5OydO",
        "colab_type": "code",
        "colab": {}
      },
      "source": [
        "pd.set_option('display.max_colwidth', 120)"
      ],
      "execution_count": 0,
      "outputs": []
    },
    {
      "cell_type": "code",
      "metadata": {
        "id": "kMHdsgF0nvaY",
        "colab_type": "code",
        "colab": {}
      },
      "source": [
        "# Empty lists for content, links and titles\n",
        "news_contents = []\n",
        "list_links = []\n",
        "list_titles = []\n",
        "\n",
        "for n in np.arange(0, number_of_articles):\n",
        "        \n",
        "    # We need to ignore \"live\" pages since they are not articles\n",
        "    if \"live\" in coverpage_news[n].find('a')['href']:  \n",
        "        continue\n",
        "    \n",
        "    # Getting the link of the article\n",
        "    link = coverpage_news[n].find('a')['href']\n",
        "    list_links.append(link)\n",
        "    \n",
        "    # Getting the title\n",
        "    title = coverpage_news[n].find('a').get_text()\n",
        "    list_titles.append(title)\n",
        "    \n",
        "    # Reading the content (it is divided in paragraphs)\n",
        "    article = requests.get(link)\n",
        "    article_content = article.content\n",
        "    soup_article = BeautifulSoup(article_content, 'html5lib') # To read about this syntax - go here: https://beautiful-soup-4.readthedocs.io/en/latest/#line-numbers\n",
        "    body = soup_article.find_all('div', class_='content__article-body from-content-api js-article__body')\n",
        "    x = body[0].find_all('p')\n",
        "    \n",
        "    # Unifying the paragraphs\n",
        "    list_paragraphs = []\n",
        "    for p in np.arange(0, len(x)):\n",
        "        paragraph = x[p].get_text()\n",
        "        list_paragraphs.append(paragraph)\n",
        "        final_article = \" \".join(list_paragraphs)\n",
        "        \n",
        "    news_contents.append(final_article)\n"
      ],
      "execution_count": 0,
      "outputs": []
    },
    {
      "cell_type": "code",
      "metadata": {
        "id": "70dUGat9QYkc",
        "colab_type": "code",
        "colab": {}
      },
      "source": [
        "#numpy.arange([start, ]stop, [step, ]\n",
        "# includes start number but not end number (not 5)\n",
        "# ================================================\n",
        "print('First Loop')\n",
        "for i in np.arange(0,5):\n",
        "    print(i)\n",
        "print('')\n",
        "print('Second Loop - Step 2')\n",
        "print('')      \n",
        "for i in np.arange(0,5,2):\n",
        "    print(i)\n",
        "                    \n"
      ],
      "execution_count": 0,
      "outputs": []
    },
    {
      "cell_type": "code",
      "metadata": {
        "id": "jpzdua7su7Hm",
        "colab_type": "code",
        "colab": {}
      },
      "source": [
        "?requests.get"
      ],
      "execution_count": 0,
      "outputs": []
    },
    {
      "cell_type": "code",
      "metadata": {
        "id": "m6gfi_UJt6be",
        "colab_type": "code",
        "colab": {}
      },
      "source": [
        "?BeautifulSoup.find_all"
      ],
      "execution_count": 0,
      "outputs": []
    },
    {
      "cell_type": "code",
      "metadata": {
        "id": "E5CbR1oMnvXn",
        "colab_type": "code",
        "colab": {}
      },
      "source": [
        "# df_show_info\n",
        "df_show_info = pd.DataFrame(\n",
        "    {'Article Title': list_titles})\n",
        "df_show_info"
      ],
      "execution_count": 0,
      "outputs": []
    },
    {
      "cell_type": "markdown",
      "metadata": {
        "id": "PkmyAcs3KiQN",
        "colab_type": "text"
      },
      "source": [
        "## **Let us take one more step and run the news stories through our translator!**"
      ]
    },
    {
      "cell_type": "code",
      "metadata": {
        "id": "oUeNkAUuyePb",
        "colab_type": "code",
        "colab": {}
      },
      "source": [
        "def get_language_desc(language_code,language):\n",
        "    translator = Translator()\n",
        "    source_language_code = 'en'\n",
        "    dest_language = language\n",
        "    dest_language_code = language_code\n",
        "    df = df_show_info.loc[:,['Article Title']]\n",
        "    df[dest_language] = \"\"\n",
        "    for index, row in df.iterrows():\n",
        "        text = translator.translate(row['Article Title'], src=source_language_code, dest=dest_language_code).text\n",
        "        row[dest_language] = text\n",
        "\n",
        "    print(tabulate(df,headers=('Article Title',dest_language + ' Translation')))"
      ],
      "execution_count": 0,
      "outputs": []
    },
    {
      "cell_type": "code",
      "metadata": {
        "id": "DKmEzEuczpBk",
        "colab_type": "code",
        "colab": {}
      },
      "source": [
        "languages = [('no','Norwegian'),('de','German'),('bg','Bulgarian'),('fi','Finnish'), \\\n",
        "             ('el','Greek'),('hi','Hindi'),('es','Spanish'),('fr','French'),('zh-TW','Chinese (Traditional)')]\n",
        "s = '='\n",
        "n = 180\n",
        "\n",
        "for language in languages:\n",
        "  print(' \\n ')\n",
        "  print(language[1].upper()) \n",
        "  print(''.join([char*n for char in s]))\n",
        "  get_language_desc(language[0],language[1])\n",
        " "
      ],
      "execution_count": 0,
      "outputs": []
    },
    {
      "cell_type": "markdown",
      "metadata": {
        "id": "D-49CYJZfWjF",
        "colab_type": "text"
      },
      "source": [
        "## Writing and reading to/from disk"
      ]
    },
    {
      "cell_type": "code",
      "metadata": {
        "id": "6hIBCvvgxEm3",
        "colab_type": "code",
        "colab": {}
      },
      "source": [
        "import os"
      ],
      "execution_count": 0,
      "outputs": []
    },
    {
      "cell_type": "code",
      "metadata": {
        "id": "JR6J5wcQuvye",
        "colab_type": "code",
        "colab": {}
      },
      "source": [
        "def write_to_file(dest_language_code,language,content,index):\n",
        "    file_name = os.path.join('/content/drive/My Drive/Language_Translator/',language + '_' + index + '.txt')\n",
        "    with open(file_name, 'w') as f:\n",
        "         text = translator.translate(content, src='en', dest=dest_language_code).text\n",
        "         f.write(\"%s\\n\" % text)"
      ],
      "execution_count": 0,
      "outputs": []
    },
    {
      "cell_type": "code",
      "metadata": {
        "id": "oFP6ag05xUXf",
        "colab_type": "code",
        "colab": {}
      },
      "source": [
        "languages = [('no','Norwegian'),('de','German'),('bg','Bulgarian'),('fi','Finnish'),('el','Greek'),('hi','Hindi'),('es','Spanish'),('fr','French')]\n",
        "n = 0\n",
        "translator = Translator()\n",
        "for article in news_contents:\n",
        "    for language in languages:\n",
        "        write_to_file(language[0],language[1],article, str(n))\n",
        "    n = n + 1"
      ],
      "execution_count": 0,
      "outputs": []
    },
    {
      "cell_type": "code",
      "metadata": {
        "id": "I9J1R6Cb1JWo",
        "colab_type": "code",
        "colab": {}
      },
      "source": [
        "def read_from_file(dest_language_code,language, index):\n",
        "    file_name = os.path.join('/content/drive/My Drive/Language_Translator/',language + '_' + index + '.txt')\n",
        "    with open(file_name, 'r') as f:\n",
        "         \n",
        "         print(f.read())"
      ],
      "execution_count": 0,
      "outputs": []
    },
    {
      "cell_type": "code",
      "metadata": {
        "id": "WY3x0Qh-nDG9",
        "colab_type": "code",
        "colab": {}
      },
      "source": [
        "from google.colab import drive\n",
        "drive.mount('/content/drive')"
      ],
      "execution_count": 0,
      "outputs": []
    },
    {
      "cell_type": "code",
      "metadata": {
        "id": "wVD-5EP_066J",
        "colab_type": "code",
        "colab": {}
      },
      "source": [
        "languages = [('no','Norwegian'),('de','German'),('bg','Bulgarian'),('fi','Finnish'),('el','Greek'),('hi','Hindi'),('es','Spanish'),('fr','French')]\n",
        "n = 0\n",
        "s = '='\n",
        "n = 180\n",
        "for language in languages:\n",
        "    print(' \\n ')\n",
        "    print(language[1].upper()) \n",
        "    print(''.join([char*n for char in s]))\n",
        "    for n in range(number_of_articles - 1):\n",
        "        read_from_file(language[0],language[1], str(n))"
      ],
      "execution_count": 0,
      "outputs": []
    },
    {
      "cell_type": "markdown",
      "metadata": {
        "id": "km_oi0WWjVa9",
        "colab_type": "text"
      },
      "source": [
        "### ================================== END OF MODULE =================================="
      ]
    }
  ]
}